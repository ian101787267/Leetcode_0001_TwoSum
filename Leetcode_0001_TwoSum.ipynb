{
  "nbformat": 4,
  "nbformat_minor": 0,
  "metadata": {
    "colab": {
      "provenance": []
    },
    "kernelspec": {
      "name": "python3",
      "display_name": "Python 3"
    },
    "language_info": {
      "name": "python"
    }
  },
  "cells": [
    {
      "cell_type": "code",
      "execution_count": 4,
      "metadata": {
        "colab": {
          "base_uri": "https://localhost:8080/"
        },
        "id": "7kp7co_cwXwL",
        "outputId": "800932d4-abc8-4990-a590-5da986705939"
      },
      "outputs": [
        {
          "output_type": "stream",
          "name": "stdout",
          "text": [
            "[0, 1]\n",
            "[1, 0]\n"
          ]
        }
      ],
      "source": [
        "nums = [2,7,11,15]\n",
        "target = 9\n",
        "for i in range(len(nums)):\n",
        " for j in range(len(nums)):\n",
        "  if i == j:\n",
        "    continue\n",
        "  if nums[i] + nums[ j] == target:\n",
        "    print([i,j])\n"
      ]
    }
  ]
}