{
  "nbformat": 4,
  "nbformat_minor": 0,
  "metadata": {
    "colab": {
      "provenance": []
    },
    "kernelspec": {
      "name": "python3",
      "display_name": "Python 3"
    },
    "language_info": {
      "name": "python"
    }
  },
  "cells": [
    {
      "cell_type": "code",
      "execution_count": 2,
      "metadata": {
        "id": "59SxPco2yhDT"
      },
      "outputs": [],
      "source": [
        "class Solution:\n",
        "    def arrangeCoins(self, n: int) -> int:\n",
        "        if n==1:\n",
        "            return 1\n",
        "\n",
        "        l=0\n",
        "        r=n\n",
        "        while l+1!=r:\n",
        "            mid=(l+r)//2\n",
        "            x=((1+mid)*mid)//2\n",
        "            if x==n:\n",
        "                return mid\n",
        "\n",
        "            if x<n:\n",
        "                l=mid\n",
        "            elif x>n:\n",
        "                r=mid\n",
        "\n",
        "        return l"
      ]
    }
  ]
}